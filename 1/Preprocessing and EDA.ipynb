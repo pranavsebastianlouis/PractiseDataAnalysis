{
 "cells": [
  {
   "cell_type": "code",
   "execution_count": 1,
   "id": "eb5e12e0-ea70-47fc-b3dc-f6c59ae1d20c",
   "metadata": {},
   "outputs": [],
   "source": [
    "import pandas as pd\n",
    "import numpy as np\n",
    "import matplotlib.pyplot as plt\n",
    "import warnings\n",
    "warnings.filterwarnings('ignore')\n",
    "import seaborn as sns"
   ]
  },
  {
   "cell_type": "code",
   "execution_count": 2,
   "id": "b7932830-bd9d-4844-83ae-10c07f1ddce5",
   "metadata": {},
   "outputs": [],
   "source": [
    "df = pd.read_csv('customer_raw_data_1500.csv') #loading the dataset"
   ]
  },
  {
   "cell_type": "code",
   "execution_count": 3,
   "id": "666ddfc7-7cd3-41cb-9f0a-c0751ab586aa",
   "metadata": {},
   "outputs": [
    {
     "data": {
      "text/html": [
       "<div>\n",
       "<style scoped>\n",
       "    .dataframe tbody tr th:only-of-type {\n",
       "        vertical-align: middle;\n",
       "    }\n",
       "\n",
       "    .dataframe tbody tr th {\n",
       "        vertical-align: top;\n",
       "    }\n",
       "\n",
       "    .dataframe thead th {\n",
       "        text-align: right;\n",
       "    }\n",
       "</style>\n",
       "<table border=\"1\" class=\"dataframe\">\n",
       "  <thead>\n",
       "    <tr style=\"text-align: right;\">\n",
       "      <th></th>\n",
       "      <th>Customer_ID</th>\n",
       "      <th>Age</th>\n",
       "      <th>Gender</th>\n",
       "      <th>City</th>\n",
       "      <th>Income</th>\n",
       "      <th>Customer_Since</th>\n",
       "      <th>Spending_Score</th>\n",
       "    </tr>\n",
       "  </thead>\n",
       "  <tbody>\n",
       "    <tr>\n",
       "      <th>0</th>\n",
       "      <td>CUST1000</td>\n",
       "      <td>68</td>\n",
       "      <td>Unknown</td>\n",
       "      <td>new york</td>\n",
       "      <td>$93,792</td>\n",
       "      <td>2022-02-16</td>\n",
       "      <td>79.0</td>\n",
       "    </tr>\n",
       "    <tr>\n",
       "      <th>1</th>\n",
       "      <td>CUST1001</td>\n",
       "      <td>43</td>\n",
       "      <td>MALE</td>\n",
       "      <td>Los Angeles</td>\n",
       "      <td>$138,681</td>\n",
       "      <td>23/09/2022</td>\n",
       "      <td>74.0</td>\n",
       "    </tr>\n",
       "    <tr>\n",
       "      <th>2</th>\n",
       "      <td>CUST1002</td>\n",
       "      <td>73</td>\n",
       "      <td>MALE</td>\n",
       "      <td>Huston</td>\n",
       "      <td>$30,858</td>\n",
       "      <td>30/07/2022</td>\n",
       "      <td>32.0</td>\n",
       "    </tr>\n",
       "    <tr>\n",
       "      <th>3</th>\n",
       "      <td>CUST1003</td>\n",
       "      <td>25</td>\n",
       "      <td>FEMALE</td>\n",
       "      <td>new york</td>\n",
       "      <td>$138,103</td>\n",
       "      <td>2022-05-02</td>\n",
       "      <td>36.0</td>\n",
       "    </tr>\n",
       "    <tr>\n",
       "      <th>4</th>\n",
       "      <td>CUST1004</td>\n",
       "      <td>72</td>\n",
       "      <td>FeMale</td>\n",
       "      <td>Unknown</td>\n",
       "      <td>$103,229</td>\n",
       "      <td>2022-08-30</td>\n",
       "      <td>83.0</td>\n",
       "    </tr>\n",
       "  </tbody>\n",
       "</table>\n",
       "</div>"
      ],
      "text/plain": [
       "  Customer_ID  Age   Gender         City    Income Customer_Since  \\\n",
       "0    CUST1000   68  Unknown     new york   $93,792     2022-02-16   \n",
       "1    CUST1001   43     MALE  Los Angeles  $138,681     23/09/2022   \n",
       "2    CUST1002   73     MALE       Huston   $30,858     30/07/2022   \n",
       "3    CUST1003   25   FEMALE     new york  $138,103     2022-05-02   \n",
       "4    CUST1004   72   FeMale      Unknown  $103,229     2022-08-30   \n",
       "\n",
       "   Spending_Score  \n",
       "0            79.0  \n",
       "1            74.0  \n",
       "2            32.0  \n",
       "3            36.0  \n",
       "4            83.0  "
      ]
     },
     "execution_count": 3,
     "metadata": {},
     "output_type": "execute_result"
    }
   ],
   "source": [
    "df.head()#sample view of the dataset"
   ]
  },
  {
   "cell_type": "code",
   "execution_count": 4,
   "id": "6467aab1-c3c6-4fe1-b2be-8fb2c4e6a8c8",
   "metadata": {},
   "outputs": [
    {
     "data": {
      "text/plain": [
       "Customer_ID         0\n",
       "Age                 0\n",
       "Gender              0\n",
       "City                0\n",
       "Income            130\n",
       "Customer_Since      0\n",
       "Spending_Score     18\n",
       "dtype: int64"
      ]
     },
     "execution_count": 4,
     "metadata": {},
     "output_type": "execute_result"
    }
   ],
   "source": [
    "df.isna().sum() # checking which all columns have null values and how many."
   ]
  },
  {
   "cell_type": "code",
   "execution_count": 5,
   "id": "6f46ac0b-991b-4e88-a931-20b9584e729e",
   "metadata": {},
   "outputs": [],
   "source": [
    "#converting income column to numeric value to fix null value issue.\n",
    "df['Income'] = df['Income'].str.replace('$','') #replace $ with nothing\n",
    "df['Income'] = df['Income'].str.replace(',','') #replace , with nothing\n",
    "df['Income'] = df['Income'].astype(float) # typecasting the string to float"
   ]
  },
  {
   "cell_type": "code",
   "execution_count": 6,
   "id": "15022381-bdde-4167-b0c5-14062652e77e",
   "metadata": {},
   "outputs": [
    {
     "data": {
      "text/html": [
       "<div>\n",
       "<style scoped>\n",
       "    .dataframe tbody tr th:only-of-type {\n",
       "        vertical-align: middle;\n",
       "    }\n",
       "\n",
       "    .dataframe tbody tr th {\n",
       "        vertical-align: top;\n",
       "    }\n",
       "\n",
       "    .dataframe thead th {\n",
       "        text-align: right;\n",
       "    }\n",
       "</style>\n",
       "<table border=\"1\" class=\"dataframe\">\n",
       "  <thead>\n",
       "    <tr style=\"text-align: right;\">\n",
       "      <th></th>\n",
       "      <th>Income</th>\n",
       "    </tr>\n",
       "  </thead>\n",
       "  <tbody>\n",
       "    <tr>\n",
       "      <th>0</th>\n",
       "      <td>93792.0</td>\n",
       "    </tr>\n",
       "    <tr>\n",
       "      <th>1</th>\n",
       "      <td>138681.0</td>\n",
       "    </tr>\n",
       "    <tr>\n",
       "      <th>2</th>\n",
       "      <td>30858.0</td>\n",
       "    </tr>\n",
       "    <tr>\n",
       "      <th>3</th>\n",
       "      <td>138103.0</td>\n",
       "    </tr>\n",
       "    <tr>\n",
       "      <th>4</th>\n",
       "      <td>103229.0</td>\n",
       "    </tr>\n",
       "  </tbody>\n",
       "</table>\n",
       "</div>"
      ],
      "text/plain": [
       "     Income\n",
       "0   93792.0\n",
       "1  138681.0\n",
       "2   30858.0\n",
       "3  138103.0\n",
       "4  103229.0"
      ]
     },
     "execution_count": 6,
     "metadata": {},
     "output_type": "execute_result"
    }
   ],
   "source": [
    "df[['Income']].head() #sample view of the processed income column"
   ]
  },
  {
   "cell_type": "code",
   "execution_count": 7,
   "id": "8b75d429-dd53-4b87-b58e-9ba6cc353929",
   "metadata": {},
   "outputs": [],
   "source": [
    "#converting the Customer_since column to datetime format\n",
    "df['Customer_Since'] = pd.to_datetime(df['Customer_Since'],format = 'mixed')"
   ]
  },
  {
   "cell_type": "code",
   "execution_count": 8,
   "id": "dc76caca-4952-42d5-bd93-3f142be72af9",
   "metadata": {},
   "outputs": [
    {
     "data": {
      "text/html": [
       "<div>\n",
       "<style scoped>\n",
       "    .dataframe tbody tr th:only-of-type {\n",
       "        vertical-align: middle;\n",
       "    }\n",
       "\n",
       "    .dataframe tbody tr th {\n",
       "        vertical-align: top;\n",
       "    }\n",
       "\n",
       "    .dataframe thead th {\n",
       "        text-align: right;\n",
       "    }\n",
       "</style>\n",
       "<table border=\"1\" class=\"dataframe\">\n",
       "  <thead>\n",
       "    <tr style=\"text-align: right;\">\n",
       "      <th></th>\n",
       "      <th>Customer_Since</th>\n",
       "    </tr>\n",
       "  </thead>\n",
       "  <tbody>\n",
       "    <tr>\n",
       "      <th>0</th>\n",
       "      <td>2022-02-16</td>\n",
       "    </tr>\n",
       "    <tr>\n",
       "      <th>1</th>\n",
       "      <td>2022-09-23</td>\n",
       "    </tr>\n",
       "    <tr>\n",
       "      <th>2</th>\n",
       "      <td>2022-07-30</td>\n",
       "    </tr>\n",
       "    <tr>\n",
       "      <th>3</th>\n",
       "      <td>2022-05-02</td>\n",
       "    </tr>\n",
       "    <tr>\n",
       "      <th>4</th>\n",
       "      <td>2022-08-30</td>\n",
       "    </tr>\n",
       "  </tbody>\n",
       "</table>\n",
       "</div>"
      ],
      "text/plain": [
       "  Customer_Since\n",
       "0     2022-02-16\n",
       "1     2022-09-23\n",
       "2     2022-07-30\n",
       "3     2022-05-02\n",
       "4     2022-08-30"
      ]
     },
     "execution_count": 8,
     "metadata": {},
     "output_type": "execute_result"
    }
   ],
   "source": [
    "df[['Customer_Since']].head() # sample view of the customer_since column in datetime format"
   ]
  },
  {
   "cell_type": "code",
   "execution_count": 9,
   "id": "44ddd0a6-74f7-4cff-acf6-8478979237f4",
   "metadata": {},
   "outputs": [
    {
     "name": "stdout",
     "output_type": "stream",
     "text": [
      "<class 'pandas.core.frame.DataFrame'>\n",
      "RangeIndex: 1500 entries, 0 to 1499\n",
      "Data columns (total 7 columns):\n",
      " #   Column          Non-Null Count  Dtype         \n",
      "---  ------          --------------  -----         \n",
      " 0   Customer_ID     1500 non-null   object        \n",
      " 1   Age             1500 non-null   int64         \n",
      " 2   Gender          1500 non-null   object        \n",
      " 3   City            1500 non-null   object        \n",
      " 4   Income          1370 non-null   float64       \n",
      " 5   Customer_Since  1500 non-null   datetime64[ns]\n",
      " 6   Spending_Score  1482 non-null   float64       \n",
      "dtypes: datetime64[ns](1), float64(2), int64(1), object(3)\n",
      "memory usage: 82.2+ KB\n"
     ]
    }
   ],
   "source": [
    "df.info()#to view and verify the datatypes of each column"
   ]
  },
  {
   "cell_type": "code",
   "execution_count": 10,
   "id": "66179f81-0579-4e0a-b4bd-9a537dd134ac",
   "metadata": {},
   "outputs": [
    {
     "data": {
      "text/plain": [
       "(1500, 7)"
      ]
     },
     "execution_count": 10,
     "metadata": {},
     "output_type": "execute_result"
    }
   ],
   "source": [
    "df.shape #to understand the shape of the dataset"
   ]
  },
  {
   "cell_type": "code",
   "execution_count": 11,
   "id": "83bdbae1-b58d-4e45-b57f-f1f0ac22f3aa",
   "metadata": {},
   "outputs": [
    {
     "name": "stdout",
     "output_type": "stream",
     "text": [
      "85126.78394160584\n",
      "84013.0\n"
     ]
    }
   ],
   "source": [
    "#fixing null values in Income column\n",
    "print(df.Income.mean())\n",
    "print(df.Income.median())\n",
    "# We can see that the mean is higher than the median therefore there are some outliers in the data. So we use median to \n",
    "# fill the null values"
   ]
  },
  {
   "cell_type": "code",
   "execution_count": 12,
   "id": "a40879fb-0406-43b8-9c8d-5a05fb1b65fb",
   "metadata": {},
   "outputs": [],
   "source": [
    "#filling the null values in the dataset with the median\n",
    "df['Income'] = df['Income'].fillna(df.Income.median())"
   ]
  },
  {
   "cell_type": "code",
   "execution_count": 13,
   "id": "f9f95e9f-3cc4-4bd9-a920-c400da822922",
   "metadata": {},
   "outputs": [
    {
     "data": {
      "text/plain": [
       "Customer_ID        0\n",
       "Age                0\n",
       "Gender             0\n",
       "City               0\n",
       "Income             0\n",
       "Customer_Since     0\n",
       "Spending_Score    18\n",
       "dtype: int64"
      ]
     },
     "execution_count": 13,
     "metadata": {},
     "output_type": "execute_result"
    }
   ],
   "source": [
    "df.isna().sum()"
   ]
  },
  {
   "cell_type": "code",
   "execution_count": 14,
   "id": "7db80a57-ecb5-419d-ab09-0696370cce0d",
   "metadata": {},
   "outputs": [
    {
     "name": "stdout",
     "output_type": "stream",
     "text": [
      "49.84345479082321\n",
      "48.0\n"
     ]
    }
   ],
   "source": [
    "#checking the mean and median of the Spending_score column.\n",
    "print(df.Spending_Score.mean())\n",
    "print(df.Spending_Score.median())\n",
    "#since mean is slightly higher than median there is some bias so we fill null with median"
   ]
  },
  {
   "cell_type": "code",
   "execution_count": 15,
   "id": "74f67b59-5695-4ba6-9bfb-5a01d82c4a8f",
   "metadata": {},
   "outputs": [],
   "source": [
    "df['Spending_Score'] = df['Spending_Score'].fillna(df.Spending_Score.median())"
   ]
  },
  {
   "cell_type": "code",
   "execution_count": 16,
   "id": "d6cae665-213e-479b-b251-22d180893f42",
   "metadata": {},
   "outputs": [
    {
     "data": {
      "text/plain": [
       "Customer_ID       0\n",
       "Age               0\n",
       "Gender            0\n",
       "City              0\n",
       "Income            0\n",
       "Customer_Since    0\n",
       "Spending_Score    0\n",
       "dtype: int64"
      ]
     },
     "execution_count": 16,
     "metadata": {},
     "output_type": "execute_result"
    }
   ],
   "source": [
    "df.isna().sum()"
   ]
  },
  {
   "cell_type": "code",
   "execution_count": 17,
   "id": "f0bf9c61-b86d-48c2-acac-a02bc89cfeac",
   "metadata": {},
   "outputs": [
    {
     "data": {
      "text/plain": [
       "Gender\n",
       "Other      226\n",
       "Male       221\n",
       "Unknown    221\n",
       "MALE       213\n",
       "FeMale     212\n",
       "female     210\n",
       "FEMALE     197\n",
       "Name: count, dtype: int64"
      ]
     },
     "execution_count": 17,
     "metadata": {},
     "output_type": "execute_result"
    }
   ],
   "source": [
    "#Fixing the inconsistent values in Gender column\n",
    "df.Gender.value_counts() #to see the various inconsistencies"
   ]
  },
  {
   "cell_type": "code",
   "execution_count": 18,
   "id": "84d9c0c0-1b02-4281-bf4c-54766c5ed571",
   "metadata": {},
   "outputs": [],
   "source": [
    "#mapping male and female values to a consistent values\n",
    "mapping = {'MALE': 'Male','Male':'Male','FEMALE': 'Female', 'female': 'Female','FeMale':'Female','Other':'Other','Unknown':'Unknown'}\n",
    "# Apply the mapping to the column\n",
    "df['Gender'] = df['Gender'].map(mapping)"
   ]
  },
  {
   "cell_type": "code",
   "execution_count": 19,
   "id": "413d8422-ee9f-4e21-9036-7f7fffa6ba9c",
   "metadata": {},
   "outputs": [
    {
     "data": {
      "text/plain": [
       "Gender\n",
       "Female     619\n",
       "Male       434\n",
       "Other      226\n",
       "Unknown    221\n",
       "Name: count, dtype: int64"
      ]
     },
     "execution_count": 19,
     "metadata": {},
     "output_type": "execute_result"
    }
   ],
   "source": [
    "#Checking for null values in categorical columns.\n",
    "df['Gender'].value_counts()\n",
    "#we can see that there is an 'unknown' value which is a missing value"
   ]
  },
  {
   "cell_type": "code",
   "execution_count": 20,
   "id": "fc6d3661-648e-4584-a5f1-36218ec8369e",
   "metadata": {},
   "outputs": [
    {
     "data": {
      "text/plain": [
       "Gender\n",
       "Female    840\n",
       "Male      434\n",
       "Other     226\n",
       "Name: count, dtype: int64"
      ]
     },
     "execution_count": 20,
     "metadata": {},
     "output_type": "execute_result"
    }
   ],
   "source": [
    "#Since the highest value count is that of Female we can map Unknown values to Female\n",
    "mapping = {'Male':'Male','Female':'Female','Other':'Other','Unknown':'Female'}\n",
    "df['Gender'] = df['Gender'].map(mapping)\n",
    "df['Gender'].value_counts()"
   ]
  },
  {
   "cell_type": "code",
   "execution_count": 21,
   "id": "1b006496-f4d6-4a6e-afcb-1e21f36741b1",
   "metadata": {},
   "outputs": [
    {
     "data": {
      "text/plain": [
       "City\n",
       "los angeles    232\n",
       "Huston         219\n",
       "new york       217\n",
       "Los Angeles    213\n",
       "New York       210\n",
       "Houston        206\n",
       "Unknown        203\n",
       "Name: count, dtype: int64"
      ]
     },
     "execution_count": 21,
     "metadata": {},
     "output_type": "execute_result"
    }
   ],
   "source": [
    "df.City.value_counts() # to check inconsistencies and unknows values in city column"
   ]
  },
  {
   "cell_type": "code",
   "execution_count": 22,
   "id": "566c7002-8e01-4fb0-8703-15a07ee60539",
   "metadata": {},
   "outputs": [
    {
     "data": {
      "text/plain": [
       "City\n",
       "Los Angeles    445\n",
       "New York       427\n",
       "Houston        425\n",
       "Unknown        203\n",
       "Name: count, dtype: int64"
      ]
     },
     "execution_count": 22,
     "metadata": {},
     "output_type": "execute_result"
    }
   ],
   "source": [
    "#fixing inconsistencies\n",
    "mapping = {'los angeles': 'Los Angeles','Los Angeles':'Los Angeles','Huston':'Houston','Houston' : 'Houston',\\\n",
    "'new york':'New York','New York':'New York','Unknown':'Unknown'}\n",
    "df.City = df.City.map(mapping)\n",
    "df.City.value_counts()"
   ]
  },
  {
   "cell_type": "code",
   "execution_count": 23,
   "id": "c3e90192-73f3-4f8f-a0f9-9713993e2366",
   "metadata": {},
   "outputs": [
    {
     "data": {
      "text/plain": [
       "City\n",
       "Los Angeles    445\n",
       "New York       427\n",
       "Houston        425\n",
       "Name: count, dtype: int64"
      ]
     },
     "execution_count": 23,
     "metadata": {},
     "output_type": "execute_result"
    }
   ],
   "source": [
    "#dropping unknown values because all the cities have almost equal counts.\n",
    "mapping = {'Los Angeles':'Los Angeles','Houston' : 'Houston',\\\n",
    "'New York':'New York','Unknown':np.nan}\n",
    "df.City = df.City.map(mapping)\n",
    "df.City.value_counts()"
   ]
  },
  {
   "cell_type": "code",
   "execution_count": 24,
   "id": "b2d6b5d0-d4de-4b31-8c3b-89f9e3250741",
   "metadata": {},
   "outputs": [
    {
     "data": {
      "text/plain": [
       "np.int64(203)"
      ]
     },
     "execution_count": 24,
     "metadata": {},
     "output_type": "execute_result"
    }
   ],
   "source": [
    "df.City.isna().sum()"
   ]
  },
  {
   "cell_type": "code",
   "execution_count": 25,
   "id": "196b1011-8819-4de0-b824-7ffe81f41e13",
   "metadata": {},
   "outputs": [],
   "source": [
    "#dropping\n",
    "df = df.dropna()"
   ]
  },
  {
   "cell_type": "code",
   "execution_count": 26,
   "id": "63c907b5-db79-4732-b7c2-f276ccd23f52",
   "metadata": {},
   "outputs": [
    {
     "data": {
      "text/plain": [
       "np.int64(0)"
      ]
     },
     "execution_count": 26,
     "metadata": {},
     "output_type": "execute_result"
    }
   ],
   "source": [
    "df.City.isna().sum()"
   ]
  },
  {
   "cell_type": "code",
   "execution_count": 27,
   "id": "e0ee8459-f905-4699-8bad-90dcd9771b1f",
   "metadata": {},
   "outputs": [
    {
     "data": {
      "text/plain": [
       "(1297, 7)"
      ]
     },
     "execution_count": 27,
     "metadata": {},
     "output_type": "execute_result"
    }
   ],
   "source": [
    "df.shape #shape of dataframe"
   ]
  },
  {
   "cell_type": "code",
   "execution_count": 28,
   "id": "7fa4f5ca-fd9f-4f86-9495-f5d6b65204be",
   "metadata": {},
   "outputs": [],
   "source": [
    "#dropping the rows where age is -ve  or 0\n",
    "df = df[df['Age']>0]"
   ]
  },
  {
   "cell_type": "code",
   "execution_count": 29,
   "id": "13cb40af-4b49-4369-a91e-1caa0b339554",
   "metadata": {},
   "outputs": [
    {
     "data": {
      "text/plain": [
       "(1279, 7)"
      ]
     },
     "execution_count": 29,
     "metadata": {},
     "output_type": "execute_result"
    }
   ],
   "source": [
    "df.shape # no change in shape shows no -ve values"
   ]
  },
  {
   "cell_type": "code",
   "execution_count": 30,
   "id": "e1542520-2600-42d2-9e84-50c93e30b517",
   "metadata": {},
   "outputs": [
    {
     "name": "stdout",
     "output_type": "stream",
     "text": [
      "0\n"
     ]
    }
   ],
   "source": [
    "#dropping duplicates\n",
    "duplicates = df.duplicated().sum()\n",
    "print(duplicates)\n",
    "df.drop_duplicates(inplace = True)"
   ]
  },
  {
   "cell_type": "code",
   "execution_count": 31,
   "id": "ef274741-d311-46d9-bb9c-36e95b8aff4b",
   "metadata": {},
   "outputs": [
    {
     "data": {
      "text/plain": [
       "(1279, 7)"
      ]
     },
     "execution_count": 31,
     "metadata": {},
     "output_type": "execute_result"
    }
   ],
   "source": [
    "df.shape"
   ]
  },
  {
   "cell_type": "code",
   "execution_count": 32,
   "id": "46fae0db-c3dc-4453-8720-6c99180f2c2b",
   "metadata": {},
   "outputs": [
    {
     "name": "stdout",
     "output_type": "stream",
     "text": [
      "Age - Mean: 53.89, Median: 53.0, Mode: 25\n",
      "Income - Mean: 83877.34, Median: 84013.0, Mode: 84013.0\n"
     ]
    }
   ],
   "source": [
    "# Mean, Median, and Mode for 'age' column\n",
    "age_mean = df['Age'].mean()\n",
    "age_median = df['Age'].median()\n",
    "age_mode = df['Age'].mode()[0]  # Mode returns a Series, so we take the first value\n",
    "\n",
    "# Mean, Median, and Mode for 'income' column\n",
    "income_mean = df['Income'].mean()\n",
    "income_median = df['Income'].median()\n",
    "income_mode = df['Income'].mode()[0]\n",
    "\n",
    "\n",
    "print(f\"Age - Mean: {age_mean:.02f}, Median: {age_median}, Mode: {age_mode}\")\n",
    "print(f\"Income - Mean: {income_mean:.02f}, Median: {income_median}, Mode: {income_mode}\")\n"
   ]
  },
  {
   "cell_type": "code",
   "execution_count": 33,
   "id": "ecf85a1e-5c54-4f92-ae8a-c0d9f97ae5d2",
   "metadata": {},
   "outputs": [
    {
     "name": "stdout",
     "output_type": "stream",
     "text": [
      "City Distribution:\n",
      "City\n",
      "Los Angeles    442\n",
      "New York       421\n",
      "Houston        416\n",
      "Name: count, dtype: int64\n",
      "\n",
      "Gender Distribution:\n",
      "Gender\n",
      "Female    713\n",
      "Male      375\n",
      "Other     191\n",
      "Name: count, dtype: int64\n"
     ]
    }
   ],
   "source": [
    "# Distribution by cities\n",
    "city_distribution = df['City'].value_counts()\n",
    "\n",
    "# Distribution by genders\n",
    "gender_distribution = df['Gender'].value_counts()\n",
    "\n",
    "print(\"City Distribution:\")\n",
    "print(city_distribution)\n",
    "\n",
    "print(\"\\nGender Distribution:\")\n",
    "print(gender_distribution)\n"
   ]
  },
  {
   "cell_type": "code",
   "execution_count": 34,
   "id": "6344d782-322f-4ea7-9b0c-6b666b20adc2",
   "metadata": {},
   "outputs": [
    {
     "data": {
      "image/png": "[encoded data removed]",
      "text/plain": [
       "<Figure size 1000x600 with 1 Axes>"
      ]
     },
     "metadata": {},
     "output_type": "display_data"
    }
   ],
   "source": [
    "# Intresting patterns\n",
    "# Age Distribution and Spending Scores\n",
    "# 1. Create Age Group\n",
    "df['Age Group'] = pd.cut(df['Age'], bins=[0, 20, 30, 40, 50, 60, 70, 80, 90, 150], labels=['0-20', '20-30', '30-40', '40-50', '50-60', '60-70', '70-80', '80-90', '90+'])\n",
    "\n",
    "# Plot Spending Scores by Age Group\n",
    "plt.figure(figsize=(10, 6))\n",
    "sns.boxplot(data=df, x='Age Group', y='Spending_Score', palette='coolwarm')\n",
    "plt.title('Spending Scores by Age Group')\n",
    "plt.xlabel('Age Group')\n",
    "plt.ylabel('Spending Score')\n",
    "plt.xticks(rotation=45)\n",
    "plt.show()\n"
   ]
  },
  {
   "cell_type": "code",
   "execution_count": 35,
   "id": "653f2f65-d406-4c87-8429-ba22cdd308fb",
   "metadata": {},
   "outputs": [
    {
     "data": {
      "image/png": "[encoded data removed]",
      "text/plain": [
       "<Figure size 1000x600 with 1 Axes>"
      ]
     },
     "metadata": {},
     "output_type": "display_data"
    }
   ],
   "source": [
    "# Clean and convert 'Income' to numeric (remove '$' and ',')\n",
    "# City and Income Correlation\n",
    "# 2. Plot City vs Average Income\n",
    "plt.figure(figsize=(10, 6))\n",
    "city_income = df.groupby('City')['Income'].mean().sort_values(ascending=False)\n",
    "city_income.plot(kind='bar', color='skyblue', edgecolor='black')\n",
    "plt.title('Average Income by City')\n",
    "plt.xlabel('City')\n",
    "plt.ylabel('Average Income')\n",
    "plt.xticks(rotation=45)\n",
    "plt.show()\n"
   ]
  },
  {
   "cell_type": "markdown",
   "id": "2620af50-51da-453a-84ee-47a060d34a59",
   "metadata": {},
   "source": [
    "Spending Scores Without Context is a __Potential Red Flag__\n",
    "The Spending_Score values range widely, but there isn't additional context about what constitutes a high or low score. Identifying an appropriate threshold or range for \"acceptable\" scores might help with interpreting this column."
   ]
  },
  {
   "cell_type": "code",
   "execution_count": null,
   "id": "d3c3ed8c-08b1-4bbd-89c9-96736a6fb8b1",
   "metadata": {},
   "outputs": [],
   "source": []
  }
 ],
 "metadata": {
  "kernelspec": {
   "display_name": "Python 3 (ipykernel)",
   "language": "python",
   "name": "python3"
  },
  "language_info": {
   "codemirror_mode": {
    "name": "ipython",
    "version": 3
   },
   "file_extension": ".py",
   "mimetype": "text/x-python",
   "name": "python",
   "nbconvert_exporter": "python",
   "pygments_lexer": "ipython3",
   "version": "3.13.2"
  }
 },
 "nbformat": 4,
 "nbformat_minor": 5
}
